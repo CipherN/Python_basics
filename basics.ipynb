{
 "cells": [
  {
   "cell_type": "code",
   "execution_count": 1,
   "metadata": {
    "collapsed": true
   },
   "outputs": [
    {
     "name": "stdout",
     "output_type": "stream",
     "text": [
      "hello world\n"
     ]
    }
   ],
   "source": [
    "print('hello world')"
   ]
  },
  {
   "cell_type": "code",
   "execution_count": 2,
   "metadata": {},
   "outputs": [
    {
     "name": "stdout",
     "output_type": "stream",
     "text": [
      "<type 'tuple'>\n"
     ]
    }
   ],
   "source": [
    "programming_language = \"python\", \"java\", \"c++\", \"c#\"        # tuple 元组\n",
    "\n",
    "type(programming_language)\n",
    "\n",
    "print(type(programming_language))"
   ]
  },
  {
   "cell_type": "code",
   "execution_count": 3,
   "metadata": {},
   "outputs": [
    {
     "name": "stdout",
     "output_type": "stream",
     "text": [
      "python\njava\nc++\nc#\n"
     ]
    }
   ],
   "source": [
    "for language in programming_language:\n",
    "    print(language)"
   ]
  },
  {
   "cell_type": "code",
   "execution_count": 4,
   "metadata": {},
   "outputs": [
    {
     "ename": "TypeError",
     "evalue": "'tuple' object does not support item assignment",
     "traceback": [
      "\u001b[0;31m\u001b[0m",
      "\u001b[0;31mTypeError\u001b[0mTraceback (most recent call last)",
      "\u001b[0;32m<ipython-input-4-c4470533ef6b>\u001b[0m in \u001b[0;36m<module>\u001b[0;34m()\u001b[0m\n\u001b[1;32m      2\u001b[0m         \u001b[0;36m0\u001b[0m\u001b[0;34m,\u001b[0m \u001b[0;36m0\u001b[0m\u001b[0;34m,\u001b[0m \u001b[0;36m0\u001b[0m\u001b[0;34m,\u001b[0m\u001b[0;34m\u001b[0m\u001b[0m\n\u001b[1;32m      3\u001b[0m         0, 0, 0)        # game是一个(元组tuple)，元组内的数值无法修改\n\u001b[0;32m----> 4\u001b[0;31m \u001b[0mgame\u001b[0m\u001b[0;34m[\u001b[0m\u001b[0;36m0\u001b[0m\u001b[0;34m]\u001b[0m \u001b[0;34m=\u001b[0m \u001b[0;36m1\u001b[0m\u001b[0;34m\u001b[0m\u001b[0m\n\u001b[0m\u001b[1;32m      5\u001b[0m \u001b[0;32mprint\u001b[0m\u001b[0;34m(\u001b[0m\u001b[0mgame\u001b[0m\u001b[0;34m)\u001b[0m\u001b[0;34m\u001b[0m\u001b[0m\n",
      "\u001b[0;31mTypeError\u001b[0m: 'tuple' object does not support item assignment"
     ],
     "output_type": "error"
    }
   ],
   "source": [
    "game = (0, 0, 0,\n",
    "        0, 0, 0,\n",
    "        0, 0, 0)        # game是一个(元组tuple)，元组内的数值无法修改\n",
    "game[0] = 1\n",
    "print(game)"
   ]
  },
  {
   "cell_type": "code",
   "execution_count": 5,
   "metadata": {},
   "outputs": [
    {
     "name": "stdout",
     "output_type": "stream",
     "text": [
      "[1, 0, 0, 0, 0, 0, 0, 0, 0]\n"
     ]
    }
   ],
   "source": [
    "game = [0, 0, 0,\n",
    "        0, 0, 0,\n",
    "        0, 0, 0]        # game是一个[列表list]，列表内数值可以修改\n",
    "game[0] = 1\n",
    "print(game)"
   ]
  },
  {
   "cell_type": "code",
   "execution_count": 6,
   "metadata": {},
   "outputs": [
    {
     "name": "stdout",
     "output_type": "stream",
     "text": [
      "[[0, 0, 0], [0, 0, 0], [0, 0, 0]]\n[0, 0, 0]\n[0, 0, 0]\n[0, 0, 0]\n"
     ]
    }
   ],
   "source": [
    "game = [[0, 0, 0],\n",
    "        [0, 0, 0],\n",
    "        [0, 0, 0]]\n",
    "print(game)\n",
    "\n",
    "for row in game:        #row1 = game[0],row2 = game[1], row3 = game[2]\n",
    "    print(row)"
   ]
  },
  {
   "cell_type": "code",
   "execution_count": 7,
   "metadata": {},
   "outputs": [
    {
     "name": "stdout",
     "output_type": "stream",
     "text": [
      "       0  1  2\n(0, [0, 0, 0])\n(1, [0, 0, 0])\n(2, [0, 0, 0])\n"
     ]
    }
   ],
   "source": [
    "game = [[0, 0, 0],\n",
    "        [0, 0, 0],\n",
    "        [0, 0, 0]]\n",
    "print(\"       0  1  2\")\n",
    "col = 0\n",
    "for row in game:\n",
    "    print(col, row)         # 第一行row1的列标为0\n",
    "    col += 1                # 每加一行，列标数字加一，再循环进入打印"
   ]
  },
  {
   "cell_type": "code",
   "execution_count": 8,
   "metadata": {},
   "outputs": [
    {
     "name": "stdout",
     "output_type": "stream",
     "text": [
      "       0  1  2\n(0, [0, 0, 0])\n(1, [0, 0, 0])\n(2, [0, 0, 0])\n"
     ]
    }
   ],
   "source": [
    "game = [[0, 0, 0],\n",
    "        [0, 0, 0],\n",
    "        [0, 0, 0]]\n",
    "\n",
    "print(\"       0  1  2\")\n",
    "\n",
    "for col, row in enumerate(game):        # enumerate函数返回值为game的item以及生成index值\n",
    "    # print(row)\n",
    "    # print(col)\n",
    "    print(col, row)"
   ]
  },
  {
   "cell_type": "code",
   "execution_count": 9,
   "metadata": {},
   "outputs": [
    {
     "name": "stdout",
     "output_type": "stream",
     "text": [
      "2\n4\n<type 'int'>\n[1, 2, 3, 4, 5]\n[1, 2, 3, 4]\n[3, 4, 5]\n[]\n<type 'list'>\n[99, 2, 3, 4, 5]\n[99, 88, 77, 2, 3, 4, 5]\n"
     ]
    }
   ],
   "source": [
    "l = [1, 2, 3, 4, 5]\n",
    "print(l[1])\n",
    "print(l[-2])\n",
    "print(type(l[0]))\n",
    "\n",
    "print(l[:])\n",
    "print(l[:-1])\n",
    "print(l[2:])\n",
    "print(l[-1:2])\n",
    "print(type(l[:]))\n",
    "\n",
    "l[0] = 99\n",
    "print(l)\n",
    "\n",
    "l[:1] = [99, 88, 77]    \n",
    "print(l)"
   ]
  },
  {
   "cell_type": "code",
   "execution_count": 10,
   "metadata": {},
   "outputs": [
    {
     "name": "stdout",
     "output_type": "stream",
     "text": [
      "       0  1  2\n(0, [0, 2, 0])\n(1, [0, 0, 0])\n(2, [0, 0, 0])\n"
     ]
    }
   ],
   "source": [
    "game = [[0, 0, 0],\n",
    "        [0, 0, 0],\n",
    "        [0, 0, 0]]\n",
    "game[0][1] = 2\n",
    "print(\"       0  1  2\")\n",
    "\n",
    "for col, row in enumerate(game):        # enumerate函数返回值为game的item以及生成index值\n",
    "    print(col, row)"
   ]
  },
  {
   "cell_type": "code",
   "execution_count": 11,
   "metadata": {},
   "outputs": [
    {
     "name": "stdout",
     "output_type": "stream",
     "text": [
      "       0  1  2\n(0, [0, 0, 0])\n(1, [0, 0, 0])\n(2, [0, 0, 0])\n       0  1  2\n(0, [0, 2, 0])\n(1, [0, 0, 0])\n(2, [0, 0, 0])\n"
     ]
    }
   ],
   "source": [
    "game = [[0, 0, 0],\n",
    "        [0, 0, 0],\n",
    "        [0, 0, 0]]\n",
    "print(\"       0  1  2\")\n",
    "for col, row in enumerate(game):        # enumerate函数返回值为game的item以及生成index值\n",
    "    print(col, row)\n",
    "    \n",
    "game[0][1] = 2                          # 用户输入2以后，需要重复打印上面的内容，意味着代码需要重新写一遍\n",
    "\n",
    "print(\"       0  1  2\")\n",
    "for col, row in enumerate(game):        # enumerate函数返回值为game的item以及生成index值\n",
    "    print(col, row)"
   ]
  },
  {
   "cell_type": "code",
   "execution_count": 12,
   "metadata": {},
   "outputs": [
    {
     "name": "stdout",
     "output_type": "stream",
     "text": [
      "       0  1  2\n(0, [0, 0, 0])\n(1, [0, 0, 0])\n(2, [0, 0, 0])\n       0  1  2\n(0, [0, 2, 0])\n(1, [0, 0, 0])\n(2, [0, 0, 0])\n"
     ]
    }
   ],
   "source": [
    "game = [[0, 0, 0],\n",
    "        [0, 0, 0],\n",
    "        [0, 0, 0]]\n",
    "\n",
    "def game_board():\n",
    "    print(\"       0  1  2\")\n",
    "    for col, row in enumerate(game):\n",
    "        print(col, row)\n",
    "        \n",
    "game_board()\n",
    "game[0][1] = 2\n",
    "game_board()"
   ]
  },
  {
   "cell_type": "code",
   "execution_count": 13,
   "metadata": {},
   "outputs": [
    {
     "data": {
      "text/plain": [
       "4"
      ]
     },
     "execution_count": 13,
     "metadata": {},
     "output_type": "execute_result"
    }
   ],
   "source": [
    "# function parameters and typing\n",
    "\n",
    "def addition(x, y):\n",
    "    return x + y\n",
    "\n",
    "addition(1, 3)"
   ]
  },
  {
   "cell_type": "code",
   "execution_count": 14,
   "metadata": {},
   "outputs": [
    {
     "data": {
      "text/plain": [
       "'hello world'"
      ]
     },
     "execution_count": 14,
     "metadata": {},
     "output_type": "execute_result"
    }
   ],
   "source": [
    "addition(\"hello\", \" world\")"
   ]
  },
  {
   "cell_type": "code",
   "execution_count": 15,
   "metadata": {},
   "outputs": [
    {
     "ename": "TypeError",
     "evalue": "unsupported operand type(s) for +: 'int' and 'str'",
     "traceback": [
      "\u001b[0;31m\u001b[0m",
      "\u001b[0;31mTypeError\u001b[0mTraceback (most recent call last)",
      "\u001b[0;32m<ipython-input-15-46342f04fe93>\u001b[0m in \u001b[0;36m<module>\u001b[0;34m()\u001b[0m\n\u001b[0;32m----> 1\u001b[0;31m \u001b[0maddition\u001b[0m\u001b[0;34m(\u001b[0m\u001b[0;36m4\u001b[0m\u001b[0;34m,\u001b[0m \u001b[0;34m\" world\"\u001b[0m\u001b[0;34m)\u001b[0m\u001b[0;34m\u001b[0m\u001b[0m\n\u001b[0m",
      "\u001b[0;32m<ipython-input-13-1b30af2a7d0c>\u001b[0m in \u001b[0;36maddition\u001b[0;34m(x, y)\u001b[0m\n\u001b[1;32m      2\u001b[0m \u001b[0;34m\u001b[0m\u001b[0m\n\u001b[1;32m      3\u001b[0m \u001b[0;32mdef\u001b[0m \u001b[0maddition\u001b[0m\u001b[0;34m(\u001b[0m\u001b[0mx\u001b[0m\u001b[0;34m,\u001b[0m \u001b[0my\u001b[0m\u001b[0;34m)\u001b[0m\u001b[0;34m:\u001b[0m\u001b[0;34m\u001b[0m\u001b[0m\n\u001b[0;32m----> 4\u001b[0;31m     \u001b[0;32mreturn\u001b[0m \u001b[0mx\u001b[0m \u001b[0;34m+\u001b[0m \u001b[0my\u001b[0m\u001b[0;34m\u001b[0m\u001b[0m\n\u001b[0m\u001b[1;32m      5\u001b[0m \u001b[0;34m\u001b[0m\u001b[0m\n\u001b[1;32m      6\u001b[0m \u001b[0maddition\u001b[0m\u001b[0;34m(\u001b[0m\u001b[0;36m1\u001b[0m\u001b[0;34m,\u001b[0m \u001b[0;36m3\u001b[0m\u001b[0;34m)\u001b[0m\u001b[0;34m\u001b[0m\u001b[0m\n",
      "\u001b[0;31mTypeError\u001b[0m: unsupported operand type(s) for +: 'int' and 'str'"
     ],
     "output_type": "error"
    }
   ],
   "source": [
    "addition(4, \" world\")"
   ]
  },
  {
   "cell_type": "code",
   "execution_count": 16,
   "metadata": {},
   "outputs": [
    {
     "name": "stdout",
     "output_type": "stream",
     "text": [
      "       0  1  2\n(0, [0, 0, 0])\n(1, [0, 0, 0])\n(2, [0, 0, 0])\n       0  1  2\n(0, [2, 0, 0])\n(1, [0, 0, 0])\n(2, [0, 0, 0])\n"
     ]
    },
    {
     "data": {
      "text/plain": [
       "[[2, 0, 0], [0, 0, 0], [0, 0, 0]]"
      ]
     },
     "execution_count": 16,
     "metadata": {},
     "output_type": "execute_result"
    }
   ],
   "source": [
    "game = [[0, 0, 0],\n",
    "        [0, 0, 0],\n",
    "        [0, 0, 0]]\n",
    "\n",
    "def game_board(current_game, player = 0, row = 0, col = 0, just_display = False):\n",
    "    print(\"       0  1  2\")\n",
    "    if not just_display:\n",
    "        game[row][col] = player\n",
    "    for col, row in enumerate(game):\n",
    "        print(col, row)\n",
    "    return current_game             #函数中加入current_game为了能\n",
    "        \n",
    "game_board(game)\n",
    "game_board(game, player=2, row=0, col=0)"
   ]
  },
  {
   "cell_type": "code",
   "execution_count": 17,
   "metadata": {},
   "outputs": [
    {
     "name": "stdout",
     "output_type": "stream",
     "text": [
      "('i want to play a game', 4458754288)\n('a game', 4458783920)\n('i want to play a game', 4458754288)\n"
     ]
    }
   ],
   "source": [
    "## 全局变量与局部变量\n",
    "\n",
    "game = \"i want to play a game\"\n",
    "print(game, id(game))             # 查看game的储存地址\n",
    "\n",
    "def game_board():\n",
    "    game = \"a game\"\n",
    "    print(game, id(game))             # 函数内的变量(局部变量)仅使用函数内的赋值\n",
    "    \n",
    "game_board()\n",
    "print(game, id(game))                 # 函数内的赋值不会改变全局变量的值"
   ]
  },
  {
   "cell_type": "code",
   "execution_count": 18,
   "metadata": {},
   "outputs": [
    {
     "name": "stdout",
     "output_type": "stream",
     "text": [
      "('i want to play a game', 4433386992)\n('a game', 4458783872)\n('a game', 4458783872)\n"
     ]
    }
   ],
   "source": [
    "game = \"i want to play a game\"\n",
    "print(game, id(game))\n",
    "\n",
    "def game_board():\n",
    "    game = \"a game\"\n",
    "    print(game, id(game))\n",
    "    return game\n",
    "\n",
    "game = game_board()         # 对全局变量game重新赋值\n",
    "\n",
    "print(game, id(game)) "
   ]
  },
  {
   "cell_type": "code",
   "execution_count": 19,
   "metadata": {},
   "outputs": [
    {
     "name": "stdout",
     "output_type": "stream",
     "text": [
      "1\n"
     ]
    }
   ],
   "source": [
    "x = 1\n",
    "def test():\n",
    "    x = 2\n",
    "test()\n",
    "print(x)"
   ]
  },
  {
   "cell_type": "code",
   "execution_count": 20,
   "metadata": {},
   "outputs": [
    {
     "name": "stdout",
     "output_type": "stream",
     "text": [
      "(3, 140477053556088)\n(2, 140477053556112)\n(2, 140477053556112)\n"
     ]
    }
   ],
   "source": [
    "x = 1\n",
    "def test():\n",
    "    x = 3\n",
    "    print(x, id(x))\n",
    "    global x                # 理解为将后面用到的所有x全局化\n",
    "    x = 2                   # 此处x为全局变量\n",
    "    print(x, id(x))\n",
    "    \n",
    "test()\n",
    "print(x, id(x))"
   ]
  },
  {
   "cell_type": "code",
   "execution_count": 21,
   "metadata": {},
   "outputs": [
    {
     "name": "stdout",
     "output_type": "stream",
     "text": [
      "[2]\n"
     ]
    }
   ],
   "source": [
    "x = [1]\n",
    "def test():\n",
    "    global x\n",
    "    x = [2]\n",
    "test()\n",
    "print(x)"
   ]
  },
  {
   "cell_type": "code",
   "execution_count": 22,
   "metadata": {},
   "outputs": [],
   "source": [
    "x = [1]\n",
    "def test():\n",
    "    x[0]= 2\n",
    "test()\n",
    "print(x, type(x))"
   ]
  },
  {
   "cell_type": "code",
   "execution_count": 23,
   "metadata": {},
   "outputs": [
    {
     "name": "stdout",
     "output_type": "stream",
     "text": [
      "       0  1  2\nDid you attempt to play a row or col outside the range: [0,2]?\n(IndexError)\n"
     ]
    },
    {
     "data": {
      "text/plain": [
       "False"
      ]
     },
     "execution_count": 23,
     "metadata": {},
     "output_type": "execute_result"
    }
   ],
   "source": [
    "game = [[0, 0, 0],\n",
    "        [0, 0, 0],\n",
    "        [0, 0, 0]]\n",
    "\n",
    "def game_board(game_map, player = 0, row = 0, col = 0, just_display = False):\n",
    "    try:\n",
    "        print(\"       0  1  2\")\n",
    "        if not just_display:\n",
    "            game[row][col] = player\n",
    "        for col, row in enumerate(game):\n",
    "            print(col, row)\n",
    "        return game_map\n",
    "    except IndexError:\n",
    "        print(\"Did you attempt to play a row or col outside the range: [0,2]?\\n(IndexError)\")\n",
    "        return False\n",
    "    except Exception as e:\n",
    "        print(str(e))\n",
    "        return False\n",
    "\n",
    "game_board(game, player=2, row=3, col=0)"
   ]
  },
  {
   "cell_type": "code",
   "execution_count": 24,
   "metadata": {},
   "outputs": [
    {
     "name": "stdout",
     "output_type": "stream",
     "text": [
      "True\nFalse\nFalse\n[1, 1, 1]\nWinner\n[0, 2, 0]\n[0, 1, 0]\n"
     ]
    }
   ],
   "source": [
    "# 如何判断Tictactoe游戏的横向输赢\n",
    "game = [[1, 1,1],\n",
    "        [0, 2, 0],\n",
    "        [0, 1, 0]]\n",
    "for row in game:\n",
    "    print(row.count(row[1]) == len(row))\n",
    "\n",
    "# 不可变通的写法，如果不是3*3的形式，就需要改写代码\n",
    "# for row in game:\n",
    "#     print(row)\n",
    "#     column_1 = row[0]\n",
    "#     column_2 = row[1]\n",
    "#     column_3 = row[2]\n",
    "#     \n",
    "#     if column_1 == column_2 == column_3 != 0:\n",
    "#         print(\"Winer\")\n",
    "\n",
    "# 通用写法\n",
    "def win(current_game):\n",
    "    for row in game:\n",
    "        print(row)\n",
    "        if row.count(row[0]) == len(row) and row[0]!= 0:\n",
    "            print(\"Winner\")\n",
    "win(game)"
   ]
  },
  {
   "cell_type": "code",
   "execution_count": 25,
   "metadata": {},
   "outputs": [
    {
     "name": "stdout",
     "output_type": "stream",
     "text": [
      "([1, 1, 1], 'Winner')\n"
     ]
    }
   ],
   "source": [
    "# 如何判断Tictactoe游戏的竖向输赢\n",
    "game = [[2, 1, 1],\n",
    "        [2, 1, 0],\n",
    "        [0, 1, 0]]\n",
    "\n",
    "def win(current_game):\n",
    "    for col in range(len(game[0])):         # game[0] = 3, col = 0, 1, 2, col = 0时，进入子循环\n",
    "        check = []    \n",
    "        for row in game:                    # 执行完所有子循环 row = game[0], game[1], game[2]后，check判断，再返回大循环col = 2\n",
    "            check.append(row[col])\n",
    "        if check.count(check[0]) == len(check) and check[0]!= 0:    \n",
    "            print(check, \"Winner\")\n",
    "win(game)"
   ]
  },
  {
   "cell_type": "code",
   "execution_count": 26,
   "metadata": {},
   "outputs": [
    {
     "name": "stdout",
     "output_type": "stream",
     "text": [
      "you winner\n"
     ]
    }
   ],
   "source": [
    "# 如何判断对角线上的输赢\n",
    "game = [[2, 1, 1],\n",
    "        [2, 2, 0],\n",
    "        [0, 1, 2]]\n",
    "\n",
    "# game[0][0] == game[1][1] == game[2][2] != 0的情况\n",
    "diags_1 = []\n",
    "for ix in range(len(game)):\n",
    "    diags_1.append(game[ix][ix])\n",
    "\n",
    "if diags_1.count(diags_1[0]) == len(diags_1) and diags_1[0] != 0: \n",
    "    print(\"you winner\")"
   ]
  },
  {
   "cell_type": "code",
   "execution_count": 27,
   "metadata": {},
   "outputs": [
    {
     "name": "stdout",
     "output_type": "stream",
     "text": [
      "you win\n"
     ]
    }
   ],
   "source": [
    "# game[0][0] == game[1][1] == game[2][2] != 0的情况\n",
    "\n",
    "game = [[2, 1, 2],\n",
    "        [2, 2, 0],\n",
    "        [2, 1, 0]]\n",
    "\n",
    "# rows = range(len(game))\n",
    "# cols = list(reversed(rows))\n",
    "\n",
    "# for ix in rows:                   # 通常写法\n",
    "#     print(ix, cols[ix])\n",
    "    \n",
    "# for col,row in zip(cols, rows):   # 简洁写法\n",
    "#     print(col, row)\n",
    "\n",
    "diags_2 = []\n",
    "for ix, reverse_ix in enumerate(reversed(range(len(game)))):\n",
    "    diags_2.append(game[ix][reverse_ix])\n",
    "    \n",
    "if diags_2.count(diags_2[0]) == len(diags_2) and diags_2[0] != 0:\n",
    "    print(\"you win\")"
   ]
  },
  {
   "cell_type": "code",
   "execution_count": 28,
   "metadata": {},
   "outputs": [
    {
     "name": "stdout",
     "output_type": "stream",
     "text": [
      "       0  1  2\n(0, [0, 0, 0])\n(1, [0, 0, 0])\n(2, [0, 0, 0])\nPlayer: 1 \n"
     ]
    },
    {
     "ename": "StdinNotImplementedError",
     "evalue": "raw_input was called, but this frontend does not support input requests.",
     "traceback": [
      "\u001b[0;31m\u001b[0m",
      "\u001b[0;31mStdinNotImplementedError\u001b[0mTraceback (most recent call last)",
      "\u001b[0;32m<ipython-input-28-ddb36c289642>\u001b[0m in \u001b[0;36m<module>\u001b[0;34m()\u001b[0m\n\u001b[1;32m     62\u001b[0m         \u001b[0mcurrent_player\u001b[0m \u001b[0;34m=\u001b[0m \u001b[0mnext\u001b[0m\u001b[0;34m(\u001b[0m\u001b[0mplayer_cycle\u001b[0m\u001b[0;34m)\u001b[0m\u001b[0;34m\u001b[0m\u001b[0m\n\u001b[1;32m     63\u001b[0m         \u001b[0;32mprint\u001b[0m\u001b[0;34m(\u001b[0m\u001b[0;34m\"Player: %d \"\u001b[0m \u001b[0;34m%\u001b[0m \u001b[0mcurrent_player\u001b[0m\u001b[0;34m)\u001b[0m\u001b[0;34m\u001b[0m\u001b[0m\n\u001b[0;32m---> 64\u001b[0;31m         \u001b[0mcolumn_choice\u001b[0m \u001b[0;34m=\u001b[0m \u001b[0mint\u001b[0m\u001b[0;34m(\u001b[0m\u001b[0minput\u001b[0m\u001b[0;34m(\u001b[0m\u001b[0;34m\"Which column? \"\u001b[0m\u001b[0;34m)\u001b[0m\u001b[0;34m)\u001b[0m\u001b[0;34m\u001b[0m\u001b[0m\n\u001b[0m\u001b[1;32m     65\u001b[0m         \u001b[0mrow_choice\u001b[0m \u001b[0;34m=\u001b[0m \u001b[0mint\u001b[0m\u001b[0;34m(\u001b[0m\u001b[0minput\u001b[0m\u001b[0;34m(\u001b[0m\u001b[0;34m\"Which row? \"\u001b[0m\u001b[0;34m)\u001b[0m\u001b[0;34m)\u001b[0m\u001b[0;34m\u001b[0m\u001b[0m\n\u001b[1;32m     66\u001b[0m         \u001b[0mgame\u001b[0m \u001b[0;34m=\u001b[0m \u001b[0mgame_board\u001b[0m\u001b[0;34m(\u001b[0m\u001b[0mgame\u001b[0m\u001b[0;34m,\u001b[0m \u001b[0mplayer\u001b[0m \u001b[0;34m=\u001b[0m \u001b[0mcurrent_player\u001b[0m\u001b[0;34m,\u001b[0m \u001b[0mrow\u001b[0m \u001b[0;34m=\u001b[0m \u001b[0mrow_choice\u001b[0m\u001b[0;34m,\u001b[0m \u001b[0mcol\u001b[0m \u001b[0;34m=\u001b[0m \u001b[0mcolumn_choice\u001b[0m\u001b[0;34m)\u001b[0m\u001b[0;34m\u001b[0m\u001b[0m\n",
      "\u001b[0;32m/usr/local/anaconda3/envs/MachineLearning/lib/python2.7/site-packages/ipykernel/ipkernel.pyc\u001b[0m in \u001b[0;36m<lambda>\u001b[0;34m(prompt)\u001b[0m\n\u001b[1;32m    174\u001b[0m             \u001b[0mself\u001b[0m\u001b[0;34m.\u001b[0m\u001b[0m_sys_eval_input\u001b[0m \u001b[0;34m=\u001b[0m \u001b[0mbuiltin_mod\u001b[0m\u001b[0;34m.\u001b[0m\u001b[0minput\u001b[0m\u001b[0;34m\u001b[0m\u001b[0m\n\u001b[1;32m    175\u001b[0m             \u001b[0mbuiltin_mod\u001b[0m\u001b[0;34m.\u001b[0m\u001b[0mraw_input\u001b[0m \u001b[0;34m=\u001b[0m \u001b[0mself\u001b[0m\u001b[0;34m.\u001b[0m\u001b[0mraw_input\u001b[0m\u001b[0;34m\u001b[0m\u001b[0m\n\u001b[0;32m--> 176\u001b[0;31m             \u001b[0mbuiltin_mod\u001b[0m\u001b[0;34m.\u001b[0m\u001b[0minput\u001b[0m \u001b[0;34m=\u001b[0m \u001b[0;32mlambda\u001b[0m \u001b[0mprompt\u001b[0m\u001b[0;34m=\u001b[0m\u001b[0;34m''\u001b[0m\u001b[0;34m:\u001b[0m \u001b[0meval\u001b[0m\u001b[0;34m(\u001b[0m\u001b[0mself\u001b[0m\u001b[0;34m.\u001b[0m\u001b[0mraw_input\u001b[0m\u001b[0;34m(\u001b[0m\u001b[0mprompt\u001b[0m\u001b[0;34m)\u001b[0m\u001b[0;34m)\u001b[0m\u001b[0;34m\u001b[0m\u001b[0m\n\u001b[0m\u001b[1;32m    177\u001b[0m         \u001b[0mself\u001b[0m\u001b[0;34m.\u001b[0m\u001b[0m_save_getpass\u001b[0m \u001b[0;34m=\u001b[0m \u001b[0mgetpass\u001b[0m\u001b[0;34m.\u001b[0m\u001b[0mgetpass\u001b[0m\u001b[0;34m\u001b[0m\u001b[0m\n\u001b[1;32m    178\u001b[0m         \u001b[0mgetpass\u001b[0m\u001b[0;34m.\u001b[0m\u001b[0mgetpass\u001b[0m \u001b[0;34m=\u001b[0m \u001b[0mself\u001b[0m\u001b[0;34m.\u001b[0m\u001b[0mgetpass\u001b[0m\u001b[0;34m\u001b[0m\u001b[0m\n",
      "\u001b[0;32m/usr/local/anaconda3/envs/MachineLearning/lib/python2.7/site-packages/ipykernel/kernelbase.pyc\u001b[0m in \u001b[0;36mraw_input\u001b[0;34m(self, prompt)\u001b[0m\n\u001b[1;32m    697\u001b[0m         \u001b[0;32mif\u001b[0m \u001b[0;32mnot\u001b[0m \u001b[0mself\u001b[0m\u001b[0;34m.\u001b[0m\u001b[0m_allow_stdin\u001b[0m\u001b[0;34m:\u001b[0m\u001b[0;34m\u001b[0m\u001b[0m\n\u001b[1;32m    698\u001b[0m             raise StdinNotImplementedError(\n\u001b[0;32m--> 699\u001b[0;31m                 \u001b[0;34m\"raw_input was called, but this frontend does not support input requests.\"\u001b[0m\u001b[0;34m\u001b[0m\u001b[0m\n\u001b[0m\u001b[1;32m    700\u001b[0m             )\n\u001b[1;32m    701\u001b[0m         return self._input_request(str(prompt),\n",
      "\u001b[0;31mStdinNotImplementedError\u001b[0m: raw_input was called, but this frontend does not support input requests."
     ],
     "output_type": "error"
    }
   ],
   "source": [
    "import itertools\n",
    "    \n",
    "def win(current_game):\n",
    "    # 判断横向输赢\n",
    "    for row in game:\n",
    "        if row.count(row[0]) == len(row) and row[0] != 0:\n",
    "            print(\"Player %d is the winner horizontally!\" % row[0])\n",
    "\n",
    "    # 判断竖线输赢\n",
    "    for col in range(len(game[0])):\n",
    "        check = []\n",
    "        for row in game:\n",
    "            check.append(row[col])\n",
    "        if check.count(check[0]) == len(check) and check[0] != 0:\n",
    "            print(\"Player %d is the winner vertically!\" % check[0])\n",
    "\n",
    "    # 判断对角线 \\ 的情况\n",
    "    diags_1 = []\n",
    "    for ix in range(len(game)):\n",
    "        diags_1.append(game[ix][ix])\n",
    "\n",
    "    if diags_1.count(diags_1[0]) == len(diags_1) and diags_1[0] != 0:\n",
    "        print(\"Player %d has won Diagonally (\\)\" % diags_1[0])\n",
    "\n",
    "    # 判断对角线 / 的情况\n",
    "    diags_2 = []\n",
    "    for ix, reverse_ix in enumerate(reversed(range(len(game)))):\n",
    "        diags_2.append(game[ix][reverse_ix])\n",
    "\n",
    "    if diags_2.count(diags_2[0]) == len(diags_2) and diags_2[0] != 0:\n",
    "        print(\"Player %d has won Diagonally (/)\" % diags_2[0])\n",
    "\n",
    "\n",
    "def game_board(game_map, player=0, row=0, col=0, just_display=False):\n",
    "    try:\n",
    "        print(\"       0  1  2\")\n",
    "        if not just_display:\n",
    "            game[row][col] = player\n",
    "        for col, row in enumerate(game):\n",
    "            print(col, row)\n",
    "        return game_map\n",
    "    except IndexError:\n",
    "        print(\"Did you attempt to play a row or col outside the range: [0,2]?\\n(IndexError)\")\n",
    "        return False\n",
    "    except Exception as e:\n",
    "        print(str(e))\n",
    "        return False\n",
    "\n",
    "# 初始条件：开始玩游戏、2位玩家、game的初始值\n",
    "play = True\n",
    "players = [1, 2]\n",
    "while play:\n",
    "    game = [[0, 0, 0],\n",
    "            [0, 0, 0],\n",
    "            [0, 0, 0]]\n",
    "    game_won = False\n",
    "    player_cycle = itertools.cycle([1, 2])\n",
    "    game_board(game, just_display=True)\n",
    "\n",
    "# 玩家交替进行输入\n",
    "    while not game_won:\n",
    "        current_player = next(player_cycle)\n",
    "        print(\"Player: %d \" % current_player)\n",
    "        column_choice = int(input(\"Which column? \"))\n",
    "        row_choice = int(input(\"Which row? \"))\n",
    "        game = game_board(game, player = current_player, row = row_choice, col = column_choice)\n"
   ]
  },
  {
   "cell_type": "code",
   "execution_count": 29,
   "metadata": {},
   "outputs": [
    {
     "name": "stdout",
     "output_type": "stream",
     "text": [
      "     0  1  2\n"
     ]
    }
   ],
   "source": [
    "s = \"   \"\n",
    "for i in range(3):\n",
    "    s += \"  \" +str(i)\n",
    "print(s)"
   ]
  },
  {
   "cell_type": "code",
   "execution_count": 30,
   "metadata": {},
   "outputs": [
    {
     "name": "stdout",
     "output_type": "stream",
     "text": [
      "   0  1  2\n"
     ]
    }
   ],
   "source": [
    "s = \"   \" + \"  \".join([str(i) for i in range(3)])\n",
    "print(s)"
   ]
  },
  {
   "cell_type": "code",
   "execution_count": 31,
   "metadata": {},
   "outputs": [],
   "source": [
    "game_size = 5\n",
    "game = []\n",
    "for i in range(game_size):\n",
    "    row = []\n",
    "    for i in range(game_size):\n",
    "        row.append(0)\n",
    "    game.append(row)\n",
    "    \n",
    "print(game)"
   ]
  },
  {
   "cell_type": "code",
   "execution_count": 32,
   "metadata": {},
   "outputs": [],
   "source": [
    "game = [[0 for i in range(game_size)] for i in range(game_size)]\n",
    "game_size = 10\n",
    "print(game)"
   ]
  },
  {
   "cell_type": "code",
   "execution_count": 33,
   "metadata": {},
   "outputs": [
    {
     "name": "stdout",
     "output_type": "stream",
     "text": [
      "The Zen of Python, by Tim Peters\n\nBeautiful is better than ugly.\nExplicit is better than implicit.\nSimple is better than complex.\nComplex is better than complicated.\nFlat is better than nested.\nSparse is better than dense.\nReadability counts.\nSpecial cases aren't special enough to break the rules.\nAlthough practicality beats purity.\nErrors should never pass silently.\nUnless explicitly silenced.\nIn the face of ambiguity, refuse the temptation to guess.\nThere should be one-- and preferably only one --obvious way to do it.\nAlthough that way may not be obvious at first unless you're Dutch.\nNow is better than never.\nAlthough never is often better than *right* now.\nIf the implementation is hard to explain, it's a bad idea.\nIf the implementation is easy to explain, it may be a good idea.\nNamespaces are one honking great idea -- let's do more of those!\n"
     ]
    }
   ],
   "source": [
    "import this"
   ]
  },
  {
   "cell_type": "code",
   "execution_count": 34,
   "metadata": {},
   "outputs": [],
   "source": []
  }
 ],
 "metadata": {
  "kernelspec": {
   "display_name": "Python 2",
   "language": "python",
   "name": "python2"
  },
  "language_info": {
   "codemirror_mode": {
    "name": "ipython",
    "version": 2
   },
   "file_extension": ".py",
   "mimetype": "text/x-python",
   "name": "python",
   "nbconvert_exporter": "python",
   "pygments_lexer": "ipython2",
   "version": "2.7.6"
  }
 },
 "nbformat": 4,
 "nbformat_minor": 0
}
